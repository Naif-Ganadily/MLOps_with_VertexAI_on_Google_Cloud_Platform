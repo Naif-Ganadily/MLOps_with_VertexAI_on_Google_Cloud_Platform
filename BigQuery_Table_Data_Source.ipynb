{
 "cells": [
  {
   "cell_type": "markdown",
   "id": "477a3af6-2da6-4b24-9e21-ed5b767b62bb",
   "metadata": {},
   "source": [
    "# BigQuery_Table_Data_Source"
   ]
  },
  {
   "cell_type": "markdown",
   "id": "a0e82a23-461c-40b4-adbe-2cf6018416a5",
   "metadata": {},
   "source": [
    "### Source Data\n",
    "##### Overview\n",
    "\n",
    "This notebook imports source data for this project into Google BigQuery. All the remaining notebooks utilize BigQuery as the source and leverage API's native to the machine learning approaches they feature.\n",
    "\n",
    "In the enviornment setup notebook (00), a BigQuery source table was exported to CSV format in a Cloud Storage Bucket. This notebook, 01 - BigQuery - Table Data Source, starts the machine learning lifecycle by importing source data and preparing it for machine learning.\n",
    "\n",
    "All of these workflows utilize tabular data to fit a supervised learning model: predict a target variable by learning patterns in feature columns. The type of supervised learning used in these projects is classification: models with a target variable that has multiple discrete classes.\n",
    "\n",
    "##### The Data\n",
    "\n",
    "The source data is first exported to Google Cloud Storage in CSV format below. The BigQuery source table is bigquery-public-data.ml_datasets.ulb_fraud_detection. This is a table of credit card transactions that are classified as fradulant, Class = 1, or normal Class = 0.\n",
    "\n",
    "- The data can be researched further at this Kaggle link.\n",
    "- Read mode about BigQuery public datasets here\n",
    "\n",
    "##### Description of the Data\n",
    "\n",
    "This is a table of 284,807 credit card transactions classified as fradulant or normal in the column Class. In order protect confidentiality, the original features have been transformed using principle component analysis (PCA) into 28 features named V1, V2, ... V28 (float). Two descriptive features are provided without transformation by PCA:\n",
    "\n",
    "- Time (integer) is the seconds elapsed between the transaction and the earliest transaction in the table\n",
    "- Amount (float) is the value of the transaction\n",
    "\n",
    "##### Quick Note on PCA\n",
    "\n",
    "- PCA is an unsupervised learning technique: there is not a target variable. PCA is commonlly used as a variable/feature reduction technique. If you have 100 features then you could reduce it to a number p (say 10) projected features. The choice of this number is a balance of how well it can explain the variance of the full feature space and reducing the number of features. Each projected feature is orthogonal to each other feature, meaning there is no correlation between these new projected features.\n",
    "\n",
    "##### Preparation of the Data\n",
    "\n",
    "This notebook adds two columns to the source data and stores it in a new table with suffix _prepped.\n",
    "\n",
    "- transaction_id (string) a unique id for the row/transaction\n",
    "- splits (string) this divided the tranactions into sets for TRAIN (80%), VALIDATE (10%), and TEST (10%)"
   ]
  },
  {
   "cell_type": "markdown",
   "id": "3d59b005-5c91-477a-b373-5692bbb91b53",
   "metadata": {},
   "source": [
    "### Setup\n",
    "inputs:"
   ]
  },
  {
   "cell_type": "code",
   "execution_count": 1,
   "id": "58897d03-3b42-41a9-93e0-374c4cee181d",
   "metadata": {
    "tags": []
   },
   "outputs": [],
   "source": [
    "REGION = \"us-central1\"\n",
    "PROJECT_ID = \"mrnaif-demo\"\n",
    "DATANAME = \"fraud\"\n",
    "NOTEBOOK = '01'"
   ]
  },
  {
   "cell_type": "code",
   "execution_count": 2,
   "id": "2c9724db-32c8-4f12-9fc8-bde0bc3d1155",
   "metadata": {
    "tags": []
   },
   "outputs": [],
   "source": [
    "from google.cloud import bigquery"
   ]
  },
  {
   "cell_type": "code",
   "execution_count": 3,
   "id": "b64a0799-3a2b-481c-bb52-89838d752c94",
   "metadata": {
    "tags": []
   },
   "outputs": [],
   "source": [
    "bq = bigquery.Client(project = PROJECT_ID)"
   ]
  },
  {
   "cell_type": "code",
   "execution_count": 4,
   "id": "c050e599-df7d-4da1-bce6-4f2e1b9b3192",
   "metadata": {
    "tags": []
   },
   "outputs": [],
   "source": [
    "BUCKET = PROJECT_ID"
   ]
  },
  {
   "cell_type": "markdown",
   "id": "4f0db2bd-d422-4724-bc22-873c148e1164",
   "metadata": {},
   "source": [
    "### Create Dataset\n",
    "List BigQuery datasets in the project:"
   ]
  },
  {
   "cell_type": "code",
   "execution_count": 6,
   "id": "5d43fa3a-3274-48e8-8e84-4328289148af",
   "metadata": {
    "tags": []
   },
   "outputs": [
    {
     "data": {
      "text/html": [
       "<div>\n",
       "<style scoped>\n",
       "    .dataframe tbody tr th:only-of-type {\n",
       "        vertical-align: middle;\n",
       "    }\n",
       "\n",
       "    .dataframe tbody tr th {\n",
       "        vertical-align: top;\n",
       "    }\n",
       "\n",
       "    .dataframe thead th {\n",
       "        text-align: right;\n",
       "    }\n",
       "</style>\n",
       "<table border=\"1\" class=\"dataframe\">\n",
       "  <thead>\n",
       "    <tr style=\"text-align: right;\">\n",
       "      <th></th>\n",
       "      <th>schema_name</th>\n",
       "    </tr>\n",
       "  </thead>\n",
       "  <tbody>\n",
       "  </tbody>\n",
       "</table>\n",
       "</div>"
      ],
      "text/plain": [
       "Empty DataFrame\n",
       "Columns: [schema_name]\n",
       "Index: []"
      ]
     },
     "execution_count": 6,
     "metadata": {},
     "output_type": "execute_result"
    }
   ],
   "source": [
    "query = f\"\"\"\n",
    "SELECT schema_name\n",
    "FROM `{PROJECT_ID}.INFORMATION_SCHEMA.SCHEMATA`\n",
    "\"\"\"\n",
    "bq.query(query = query).to_dataframe()"
   ]
  },
  {
   "cell_type": "markdown",
   "id": "433d6dcd-3a02-4b94-8fcc-01019db03aed",
   "metadata": {},
   "source": [
    "Create the dataset if missing:"
   ]
  },
  {
   "cell_type": "code",
   "execution_count": 7,
   "id": "c66f503e-5505-4729-83bd-6dd3f14271b7",
   "metadata": {
    "tags": []
   },
   "outputs": [
    {
     "data": {
      "text/plain": [
       "<google.cloud.bigquery.table._EmptyRowIterator at 0x7f12cd633730>"
      ]
     },
     "execution_count": 7,
     "metadata": {},
     "output_type": "execute_result"
    }
   ],
   "source": [
    "query = f\"\"\"\n",
    "CREATE SCHEMA IF NOT EXISTS `{PROJECT_ID}.{DATANAME}`\n",
    "OPTIONS(\n",
    "     location = '{REGION}',\n",
    "     labels = [('notebook','{NOTEBOOK}')]\n",
    ")\n",
    "\"\"\"\n",
    "job = bq.query(query = query)\n",
    "job.result()"
   ]
  },
  {
   "cell_type": "code",
   "execution_count": 10,
   "id": "623a9e55-15f5-4764-b6f2-a48ceb9b4121",
   "metadata": {
    "tags": []
   },
   "outputs": [
    {
     "data": {
      "text/plain": [
       "0.699"
      ]
     },
     "execution_count": 10,
     "metadata": {},
     "output_type": "execute_result"
    }
   ],
   "source": [
    "(job.ended-job.started).total_seconds()"
   ]
  },
  {
   "cell_type": "markdown",
   "id": "50a7d7b2-6be2-40b9-9249-4d39ae0a658a",
   "metadata": {},
   "source": [
    "### Create Table\n",
    "- import data from CLoud Storage Bucket\n",
    "- https://cloud.google.com/bigquery/docs/loading-data-cloud-storage-csv"
   ]
  },
  {
   "cell_type": "code",
   "execution_count": 13,
   "id": "96b5840a-7d47-4f7c-a456-f74dc4c095a2",
   "metadata": {
    "tags": []
   },
   "outputs": [
    {
     "data": {
      "text/plain": [
       "LoadJob<project=mrnaif-demo, location=us-central1, id=7287d42c-aa00-461d-ae47-8f4f24556109>"
      ]
     },
     "execution_count": 13,
     "metadata": {},
     "output_type": "execute_result"
    }
   ],
   "source": [
    "destination = bigquery.TableReference.from_string(f\"{PROJECT_ID}.{DATANAME}.{DATANAME}\")\n",
    "job_config = bigquery.LoadJobConfig(\n",
    "    write_disposition = 'WRITE_TRUNCATE',\n",
    "    source_format = bigquery.SourceFormat.CSV,\n",
    "    autodetect = True,\n",
    "    labels = {'notebook':f'{NOTEBOOK}'}\n",
    ")\n",
    "job = bq.load_table_from_uri(f\"gs://{BUCKET}/{DATANAME}/data/{DATANAME}.csv\", destination, job_config = job_config)\n",
    "job.result()"
   ]
  },
  {
   "cell_type": "code",
   "execution_count": 15,
   "id": "83827c47-7193-4838-8eea-495533fed330",
   "metadata": {
    "tags": []
   },
   "outputs": [
    {
     "data": {
      "text/plain": [
       "10.315"
      ]
     },
     "execution_count": 15,
     "metadata": {},
     "output_type": "execute_result"
    }
   ],
   "source": [
    "(job.ended-job.started).total_seconds()"
   ]
  },
  {
   "cell_type": "code",
   "execution_count": 16,
   "id": "a7b22bc4-cb6e-4b99-99a2-446eb045f583",
   "metadata": {
    "tags": []
   },
   "outputs": [
    {
     "data": {
      "text/html": [
       "<div>\n",
       "<style scoped>\n",
       "    .dataframe tbody tr th:only-of-type {\n",
       "        vertical-align: middle;\n",
       "    }\n",
       "\n",
       "    .dataframe tbody tr th {\n",
       "        vertical-align: top;\n",
       "    }\n",
       "\n",
       "    .dataframe thead th {\n",
       "        text-align: right;\n",
       "    }\n",
       "</style>\n",
       "<table border=\"1\" class=\"dataframe\">\n",
       "  <thead>\n",
       "    <tr style=\"text-align: right;\">\n",
       "      <th></th>\n",
       "      <th>Time</th>\n",
       "      <th>V1</th>\n",
       "      <th>V2</th>\n",
       "      <th>V3</th>\n",
       "      <th>V4</th>\n",
       "      <th>V5</th>\n",
       "      <th>V6</th>\n",
       "      <th>V7</th>\n",
       "      <th>V8</th>\n",
       "      <th>V9</th>\n",
       "      <th>...</th>\n",
       "      <th>V21</th>\n",
       "      <th>V22</th>\n",
       "      <th>V23</th>\n",
       "      <th>V24</th>\n",
       "      <th>V25</th>\n",
       "      <th>V26</th>\n",
       "      <th>V27</th>\n",
       "      <th>V28</th>\n",
       "      <th>Amount</th>\n",
       "      <th>Class</th>\n",
       "    </tr>\n",
       "  </thead>\n",
       "  <tbody>\n",
       "    <tr>\n",
       "      <th>0</th>\n",
       "      <td>150336</td>\n",
       "      <td>2.030851</td>\n",
       "      <td>-0.235559</td>\n",
       "      <td>-2.804940</td>\n",
       "      <td>-0.547376</td>\n",
       "      <td>2.441730</td>\n",
       "      <td>3.277629</td>\n",
       "      <td>-0.652959</td>\n",
       "      <td>0.843118</td>\n",
       "      <td>0.542395</td>\n",
       "      <td>...</td>\n",
       "      <td>-0.058377</td>\n",
       "      <td>-0.092950</td>\n",
       "      <td>0.203618</td>\n",
       "      <td>0.642094</td>\n",
       "      <td>-0.105975</td>\n",
       "      <td>0.502090</td>\n",
       "      <td>-0.024706</td>\n",
       "      <td>-0.040995</td>\n",
       "      <td>0.78</td>\n",
       "      <td>0</td>\n",
       "    </tr>\n",
       "    <tr>\n",
       "      <th>1</th>\n",
       "      <td>84068</td>\n",
       "      <td>-0.679466</td>\n",
       "      <td>1.334849</td>\n",
       "      <td>1.367987</td>\n",
       "      <td>0.856085</td>\n",
       "      <td>0.000189</td>\n",
       "      <td>-0.701735</td>\n",
       "      <td>0.582134</td>\n",
       "      <td>-0.003885</td>\n",
       "      <td>-0.741823</td>\n",
       "      <td>...</td>\n",
       "      <td>0.077499</td>\n",
       "      <td>0.311384</td>\n",
       "      <td>-0.095417</td>\n",
       "      <td>0.413387</td>\n",
       "      <td>-0.212580</td>\n",
       "      <td>-0.457638</td>\n",
       "      <td>-0.250283</td>\n",
       "      <td>-0.139162</td>\n",
       "      <td>0.78</td>\n",
       "      <td>0</td>\n",
       "    </tr>\n",
       "    <tr>\n",
       "      <th>2</th>\n",
       "      <td>122091</td>\n",
       "      <td>2.141596</td>\n",
       "      <td>0.077735</td>\n",
       "      <td>-2.104923</td>\n",
       "      <td>0.061232</td>\n",
       "      <td>0.368903</td>\n",
       "      <td>-1.825884</td>\n",
       "      <td>0.748172</td>\n",
       "      <td>-0.564815</td>\n",
       "      <td>0.354072</td>\n",
       "      <td>...</td>\n",
       "      <td>0.131269</td>\n",
       "      <td>0.490071</td>\n",
       "      <td>-0.035338</td>\n",
       "      <td>0.008649</td>\n",
       "      <td>0.415350</td>\n",
       "      <td>0.245709</td>\n",
       "      <td>-0.091809</td>\n",
       "      <td>-0.081979</td>\n",
       "      <td>0.78</td>\n",
       "      <td>0</td>\n",
       "    </tr>\n",
       "    <tr>\n",
       "      <th>3</th>\n",
       "      <td>136167</td>\n",
       "      <td>2.073311</td>\n",
       "      <td>0.265580</td>\n",
       "      <td>-1.745544</td>\n",
       "      <td>0.492756</td>\n",
       "      <td>0.286109</td>\n",
       "      <td>-1.427709</td>\n",
       "      <td>0.310907</td>\n",
       "      <td>-0.422277</td>\n",
       "      <td>0.505541</td>\n",
       "      <td>...</td>\n",
       "      <td>0.191552</td>\n",
       "      <td>0.767662</td>\n",
       "      <td>-0.043917</td>\n",
       "      <td>-0.156863</td>\n",
       "      <td>0.295408</td>\n",
       "      <td>-0.096150</td>\n",
       "      <td>0.002101</td>\n",
       "      <td>-0.031715</td>\n",
       "      <td>0.78</td>\n",
       "      <td>0</td>\n",
       "    </tr>\n",
       "    <tr>\n",
       "      <th>4</th>\n",
       "      <td>150523</td>\n",
       "      <td>2.032967</td>\n",
       "      <td>-0.387542</td>\n",
       "      <td>-0.505876</td>\n",
       "      <td>0.350922</td>\n",
       "      <td>-0.424833</td>\n",
       "      <td>-0.134032</td>\n",
       "      <td>-0.623411</td>\n",
       "      <td>-0.005357</td>\n",
       "      <td>1.481508</td>\n",
       "      <td>...</td>\n",
       "      <td>0.151034</td>\n",
       "      <td>0.737664</td>\n",
       "      <td>0.044700</td>\n",
       "      <td>-0.682962</td>\n",
       "      <td>-0.007459</td>\n",
       "      <td>-0.166488</td>\n",
       "      <td>0.047286</td>\n",
       "      <td>-0.044997</td>\n",
       "      <td>0.78</td>\n",
       "      <td>0</td>\n",
       "    </tr>\n",
       "  </tbody>\n",
       "</table>\n",
       "<p>5 rows × 31 columns</p>\n",
       "</div>"
      ],
      "text/plain": [
       "     Time        V1        V2        V3        V4        V5        V6  \\\n",
       "0  150336  2.030851 -0.235559 -2.804940 -0.547376  2.441730  3.277629   \n",
       "1   84068 -0.679466  1.334849  1.367987  0.856085  0.000189 -0.701735   \n",
       "2  122091  2.141596  0.077735 -2.104923  0.061232  0.368903 -1.825884   \n",
       "3  136167  2.073311  0.265580 -1.745544  0.492756  0.286109 -1.427709   \n",
       "4  150523  2.032967 -0.387542 -0.505876  0.350922 -0.424833 -0.134032   \n",
       "\n",
       "         V7        V8        V9  ...       V21       V22       V23       V24  \\\n",
       "0 -0.652959  0.843118  0.542395  ... -0.058377 -0.092950  0.203618  0.642094   \n",
       "1  0.582134 -0.003885 -0.741823  ...  0.077499  0.311384 -0.095417  0.413387   \n",
       "2  0.748172 -0.564815  0.354072  ...  0.131269  0.490071 -0.035338  0.008649   \n",
       "3  0.310907 -0.422277  0.505541  ...  0.191552  0.767662 -0.043917 -0.156863   \n",
       "4 -0.623411 -0.005357  1.481508  ...  0.151034  0.737664  0.044700 -0.682962   \n",
       "\n",
       "        V25       V26       V27       V28  Amount  Class  \n",
       "0 -0.105975  0.502090 -0.024706 -0.040995    0.78      0  \n",
       "1 -0.212580 -0.457638 -0.250283 -0.139162    0.78      0  \n",
       "2  0.415350  0.245709 -0.091809 -0.081979    0.78      0  \n",
       "3  0.295408 -0.096150  0.002101 -0.031715    0.78      0  \n",
       "4 -0.007459 -0.166488  0.047286 -0.044997    0.78      0  \n",
       "\n",
       "[5 rows x 31 columns]"
      ]
     },
     "execution_count": 16,
     "metadata": {},
     "output_type": "execute_result"
    }
   ],
   "source": [
    "query = f\"\"\"\n",
    "SELECT *\n",
    "FROM `{DATANAME}.{DATANAME}`\n",
    "LIMIT 5\n",
    "\"\"\"\n",
    "bq.query(query = query).to_dataframe()"
   ]
  },
  {
   "cell_type": "markdown",
   "id": "c54d1cd5-e2d7-4955-b78b-5bc89657a31f",
   "metadata": {},
   "source": [
    "### Check out this table in BigQuery Console:\n",
    "- Click: https://console.cloud.google.com/bigquery\n",
    "- Make sure project selected is the one from this notebook\n",
    "- Under Explore, expand this project and review the dataset and table"
   ]
  },
  {
   "cell_type": "markdown",
   "id": "8295fa41-269f-4176-9b78-504c9c74320a",
   "metadata": {},
   "source": [
    "### Review Data\n",
    "- Additional SQL queries could be used to review the data. This section shows moving the table to a Pandas dataframe for local review in Python:"
   ]
  },
  {
   "cell_type": "code",
   "execution_count": 17,
   "id": "f4b7c8fb-0e9a-4fe4-9a75-6aa804a6d7a8",
   "metadata": {
    "tags": []
   },
   "outputs": [],
   "source": [
    "query = f\"\"\"\n",
    "SELECT *\n",
    "FROM `{DATANAME}.{DATANAME}`\n",
    "\"\"\"\n",
    "df = bq.query(query = query).to_dataframe()"
   ]
  },
  {
   "cell_type": "code",
   "execution_count": 18,
   "id": "a4769d10-86c9-42c2-99f7-310bb1202cb6",
   "metadata": {
    "tags": []
   },
   "outputs": [
    {
     "data": {
      "text/plain": [
       "Class\n",
       "0    284315\n",
       "1       492\n",
       "Name: count, dtype: Int64"
      ]
     },
     "execution_count": 18,
     "metadata": {},
     "output_type": "execute_result"
    }
   ],
   "source": [
    "df['Class'].value_counts()"
   ]
  },
  {
   "cell_type": "code",
   "execution_count": 20,
   "id": "227e7615-f64c-42b5-8d15-302a709cd3de",
   "metadata": {
    "tags": []
   },
   "outputs": [
    {
     "data": {
      "text/plain": [
       "Class\n",
       "0    0.998273\n",
       "1    0.001727\n",
       "Name: proportion, dtype: Float64"
      ]
     },
     "execution_count": 20,
     "metadata": {},
     "output_type": "execute_result"
    }
   ],
   "source": [
    "df['Class'].value_counts(normalize=True)"
   ]
  },
  {
   "cell_type": "markdown",
   "id": "75d46f87-89db-4e97-9c1b-215487903822",
   "metadata": {},
   "source": [
    "Highly Imbalanced!"
   ]
  },
  {
   "cell_type": "code",
   "execution_count": 19,
   "id": "1975897e-7393-4f87-ab76-56af836f491f",
   "metadata": {
    "tags": []
   },
   "outputs": [
    {
     "data": {
      "text/plain": [
       "Time      0\n",
       "V1        0\n",
       "V2        0\n",
       "V3        0\n",
       "V4        0\n",
       "V5        0\n",
       "V6        0\n",
       "V7        0\n",
       "V8        0\n",
       "V9        0\n",
       "V10       0\n",
       "V11       0\n",
       "V12       0\n",
       "V13       0\n",
       "V14       0\n",
       "V15       0\n",
       "V16       0\n",
       "V17       0\n",
       "V18       0\n",
       "V19       0\n",
       "V20       0\n",
       "V21       0\n",
       "V22       0\n",
       "V23       0\n",
       "V24       0\n",
       "V25       0\n",
       "V26       0\n",
       "V27       0\n",
       "V28       0\n",
       "Amount    0\n",
       "Class     0\n",
       "dtype: int64"
      ]
     },
     "execution_count": 19,
     "metadata": {},
     "output_type": "execute_result"
    }
   ],
   "source": [
    "df.isnull().sum()"
   ]
  },
  {
   "cell_type": "markdown",
   "id": "a0430473-1da5-4ccc-9fa2-53f53082916d",
   "metadata": {},
   "source": [
    "### Prepare Data for Analysis\n",
    "Create a prepped version of the data with train/test split using SQL DDL:"
   ]
  },
  {
   "cell_type": "code",
   "execution_count": 23,
   "id": "d697223e-9f57-4380-aecf-3f5a126d4c5f",
   "metadata": {
    "tags": []
   },
   "outputs": [
    {
     "data": {
      "text/plain": [
       "<google.cloud.bigquery.table._EmptyRowIterator at 0x7f12ccc1ac80>"
      ]
     },
     "execution_count": 23,
     "metadata": {},
     "output_type": "execute_result"
    }
   ],
   "source": [
    "query = f\"\"\"\n",
    "CREATE OR REPLACE TABLE `{DATANAME}.{DATANAME}_prepped` AS\n",
    "WITH add_id AS(SELECT *, GENERATE_UUID() transaction_id FROM `{DATANAME}.{DATANAME}`)\n",
    "SELECT*,\n",
    "    CASE\n",
    "        WHEN MOD(ABS(FARM_FINGERPRINT(transaction_id)),10) < 8 THEN \"TRAIN\"\n",
    "        WHEN MOD(ABS(FARM_FINGERPRINT(transaction_id)),10) < 9 THEN \"VALIDATE\"\n",
    "        ELSE \"TEST\"\n",
    "    END AS splits\n",
    "FROM add_id\n",
    "\"\"\"\n",
    "job = bq.query(query = query)\n",
    "job.result()"
   ]
  },
  {
   "cell_type": "code",
   "execution_count": 24,
   "id": "a636f941-f2cd-40db-b6aa-e61623a84fa7",
   "metadata": {
    "tags": []
   },
   "outputs": [
    {
     "data": {
      "text/plain": [
       "7.391"
      ]
     },
     "execution_count": 24,
     "metadata": {},
     "output_type": "execute_result"
    }
   ],
   "source": [
    "(job.ended-job.started).total_seconds()"
   ]
  },
  {
   "cell_type": "code",
   "execution_count": 25,
   "id": "fdfc3866-9e82-4d9f-a4d6-925d141b9870",
   "metadata": {
    "tags": []
   },
   "outputs": [
    {
     "data": {
      "text/plain": [
       "70.632136"
      ]
     },
     "execution_count": 25,
     "metadata": {},
     "output_type": "execute_result"
    }
   ],
   "source": [
    "job.estimated_bytes_processed/1000000 #MB"
   ]
  },
  {
   "cell_type": "markdown",
   "id": "a1ea315e-5dcb-4c95-843f-30c713130413",
   "metadata": {},
   "source": [
    "Review the train/test split:"
   ]
  },
  {
   "cell_type": "code",
   "execution_count": 26,
   "id": "0448f6c2-6f59-4880-8970-29dd981104e7",
   "metadata": {
    "tags": []
   },
   "outputs": [
    {
     "data": {
      "text/html": [
       "<div>\n",
       "<style scoped>\n",
       "    .dataframe tbody tr th:only-of-type {\n",
       "        vertical-align: middle;\n",
       "    }\n",
       "\n",
       "    .dataframe tbody tr th {\n",
       "        vertical-align: top;\n",
       "    }\n",
       "\n",
       "    .dataframe thead th {\n",
       "        text-align: right;\n",
       "    }\n",
       "</style>\n",
       "<table border=\"1\" class=\"dataframe\">\n",
       "  <thead>\n",
       "    <tr style=\"text-align: right;\">\n",
       "      <th></th>\n",
       "      <th>splits</th>\n",
       "      <th>Count</th>\n",
       "      <th>Percentage</th>\n",
       "    </tr>\n",
       "  </thead>\n",
       "  <tbody>\n",
       "    <tr>\n",
       "      <th>0</th>\n",
       "      <td>TEST</td>\n",
       "      <td>28662</td>\n",
       "      <td>10.063657</td>\n",
       "    </tr>\n",
       "    <tr>\n",
       "      <th>1</th>\n",
       "      <td>VALIDATE</td>\n",
       "      <td>28217</td>\n",
       "      <td>9.907411</td>\n",
       "    </tr>\n",
       "    <tr>\n",
       "      <th>2</th>\n",
       "      <td>TRAIN</td>\n",
       "      <td>227928</td>\n",
       "      <td>80.028932</td>\n",
       "    </tr>\n",
       "  </tbody>\n",
       "</table>\n",
       "</div>"
      ],
      "text/plain": [
       "     splits   Count  Percentage\n",
       "0      TEST   28662   10.063657\n",
       "1  VALIDATE   28217    9.907411\n",
       "2     TRAIN  227928   80.028932"
      ]
     },
     "execution_count": 26,
     "metadata": {},
     "output_type": "execute_result"
    }
   ],
   "source": [
    "query = f\"\"\"\n",
    "SELECT splits, count(*) as Count, 100*count(*) / (sum(count(*)) OVER()) as Percentage\n",
    "FROM `{DATANAME}.{DATANAME}_prepped`\n",
    "GROUP BY splits\n",
    "\"\"\"\n",
    "bq.query(query=query).to_dataframe()"
   ]
  },
  {
   "cell_type": "code",
   "execution_count": 27,
   "id": "b7cfa669-6bbb-4f7b-8bad-99d479522171",
   "metadata": {
    "tags": []
   },
   "outputs": [],
   "source": [
    "query = f\"\"\"\n",
    "SELECT *\n",
    "FROM `{DATANAME}.{DATANAME}_prepped`\n",
    "LIMIT 5\n",
    "\"\"\"\n",
    "data = bq.query(query = query).to_dataframe()"
   ]
  },
  {
   "cell_type": "code",
   "execution_count": 28,
   "id": "7fb76190-13e6-4d2f-9ce9-73cbe009f9b6",
   "metadata": {
    "tags": []
   },
   "outputs": [
    {
     "data": {
      "text/html": [
       "<div>\n",
       "<style scoped>\n",
       "    .dataframe tbody tr th:only-of-type {\n",
       "        vertical-align: middle;\n",
       "    }\n",
       "\n",
       "    .dataframe tbody tr th {\n",
       "        vertical-align: top;\n",
       "    }\n",
       "\n",
       "    .dataframe thead th {\n",
       "        text-align: right;\n",
       "    }\n",
       "</style>\n",
       "<table border=\"1\" class=\"dataframe\">\n",
       "  <thead>\n",
       "    <tr style=\"text-align: right;\">\n",
       "      <th></th>\n",
       "      <th>Time</th>\n",
       "      <th>V1</th>\n",
       "      <th>V2</th>\n",
       "      <th>V3</th>\n",
       "      <th>V4</th>\n",
       "      <th>V5</th>\n",
       "      <th>V6</th>\n",
       "      <th>V7</th>\n",
       "      <th>V8</th>\n",
       "      <th>V9</th>\n",
       "      <th>...</th>\n",
       "      <th>V23</th>\n",
       "      <th>V24</th>\n",
       "      <th>V25</th>\n",
       "      <th>V26</th>\n",
       "      <th>V27</th>\n",
       "      <th>V28</th>\n",
       "      <th>Amount</th>\n",
       "      <th>Class</th>\n",
       "      <th>transaction_id</th>\n",
       "      <th>splits</th>\n",
       "    </tr>\n",
       "  </thead>\n",
       "  <tbody>\n",
       "    <tr>\n",
       "      <th>0</th>\n",
       "      <td>10583</td>\n",
       "      <td>-1.202598</td>\n",
       "      <td>0.635702</td>\n",
       "      <td>3.377880</td>\n",
       "      <td>2.234869</td>\n",
       "      <td>0.237657</td>\n",
       "      <td>0.424087</td>\n",
       "      <td>0.068234</td>\n",
       "      <td>0.035178</td>\n",
       "      <td>0.522148</td>\n",
       "      <td>...</td>\n",
       "      <td>0.061271</td>\n",
       "      <td>0.471488</td>\n",
       "      <td>0.193197</td>\n",
       "      <td>-0.108628</td>\n",
       "      <td>-0.205586</td>\n",
       "      <td>-0.170543</td>\n",
       "      <td>0.0</td>\n",
       "      <td>0</td>\n",
       "      <td>e4a2071d-51ba-4e85-9e03-2573f457a138</td>\n",
       "      <td>TEST</td>\n",
       "    </tr>\n",
       "    <tr>\n",
       "      <th>1</th>\n",
       "      <td>41142</td>\n",
       "      <td>1.172413</td>\n",
       "      <td>0.659021</td>\n",
       "      <td>-0.022943</td>\n",
       "      <td>2.238594</td>\n",
       "      <td>0.618110</td>\n",
       "      <td>0.143063</td>\n",
       "      <td>0.377312</td>\n",
       "      <td>0.022806</td>\n",
       "      <td>-1.302248</td>\n",
       "      <td>...</td>\n",
       "      <td>-0.125425</td>\n",
       "      <td>-0.295692</td>\n",
       "      <td>0.673693</td>\n",
       "      <td>0.100964</td>\n",
       "      <td>-0.026671</td>\n",
       "      <td>-0.007202</td>\n",
       "      <td>0.0</td>\n",
       "      <td>0</td>\n",
       "      <td>b0c83024-5e8c-4fb4-b71f-72c08fc26fd9</td>\n",
       "      <td>TEST</td>\n",
       "    </tr>\n",
       "    <tr>\n",
       "      <th>2</th>\n",
       "      <td>94817</td>\n",
       "      <td>-0.311869</td>\n",
       "      <td>1.113026</td>\n",
       "      <td>2.050264</td>\n",
       "      <td>3.458307</td>\n",
       "      <td>0.749853</td>\n",
       "      <td>1.357551</td>\n",
       "      <td>0.135304</td>\n",
       "      <td>0.148008</td>\n",
       "      <td>0.078646</td>\n",
       "      <td>...</td>\n",
       "      <td>-0.045211</td>\n",
       "      <td>0.618446</td>\n",
       "      <td>-0.772424</td>\n",
       "      <td>0.046515</td>\n",
       "      <td>-0.097679</td>\n",
       "      <td>-0.037401</td>\n",
       "      <td>0.0</td>\n",
       "      <td>0</td>\n",
       "      <td>17cc17a4-ead1-475b-9c61-f85e12b0ee4a</td>\n",
       "      <td>TEST</td>\n",
       "    </tr>\n",
       "    <tr>\n",
       "      <th>3</th>\n",
       "      <td>114084</td>\n",
       "      <td>-2.956093</td>\n",
       "      <td>-3.336607</td>\n",
       "      <td>0.599052</td>\n",
       "      <td>4.228798</td>\n",
       "      <td>4.343250</td>\n",
       "      <td>-2.446534</td>\n",
       "      <td>-2.009516</td>\n",
       "      <td>0.205328</td>\n",
       "      <td>-0.226058</td>\n",
       "      <td>...</td>\n",
       "      <td>0.549155</td>\n",
       "      <td>0.084735</td>\n",
       "      <td>-1.660483</td>\n",
       "      <td>-0.238725</td>\n",
       "      <td>0.084017</td>\n",
       "      <td>0.960471</td>\n",
       "      <td>0.0</td>\n",
       "      <td>0</td>\n",
       "      <td>1aaa8454-721f-4e21-8ef0-015d6d15272f</td>\n",
       "      <td>TEST</td>\n",
       "    </tr>\n",
       "    <tr>\n",
       "      <th>4</th>\n",
       "      <td>140315</td>\n",
       "      <td>1.882751</td>\n",
       "      <td>0.532175</td>\n",
       "      <td>0.150708</td>\n",
       "      <td>3.889469</td>\n",
       "      <td>0.011037</td>\n",
       "      <td>0.101617</td>\n",
       "      <td>-0.105079</td>\n",
       "      <td>-0.027678</td>\n",
       "      <td>-0.649422</td>\n",
       "      <td>...</td>\n",
       "      <td>0.487635</td>\n",
       "      <td>-0.024250</td>\n",
       "      <td>-0.512936</td>\n",
       "      <td>-0.516050</td>\n",
       "      <td>0.011179</td>\n",
       "      <td>-0.026608</td>\n",
       "      <td>0.0</td>\n",
       "      <td>0</td>\n",
       "      <td>8b43188e-da87-4e6c-b76d-a321a84c6b52</td>\n",
       "      <td>TEST</td>\n",
       "    </tr>\n",
       "  </tbody>\n",
       "</table>\n",
       "<p>5 rows × 33 columns</p>\n",
       "</div>"
      ],
      "text/plain": [
       "     Time        V1        V2        V3        V4        V5        V6  \\\n",
       "0   10583 -1.202598  0.635702  3.377880  2.234869  0.237657  0.424087   \n",
       "1   41142  1.172413  0.659021 -0.022943  2.238594  0.618110  0.143063   \n",
       "2   94817 -0.311869  1.113026  2.050264  3.458307  0.749853  1.357551   \n",
       "3  114084 -2.956093 -3.336607  0.599052  4.228798  4.343250 -2.446534   \n",
       "4  140315  1.882751  0.532175  0.150708  3.889469  0.011037  0.101617   \n",
       "\n",
       "         V7        V8        V9  ...       V23       V24       V25       V26  \\\n",
       "0  0.068234  0.035178  0.522148  ...  0.061271  0.471488  0.193197 -0.108628   \n",
       "1  0.377312  0.022806 -1.302248  ... -0.125425 -0.295692  0.673693  0.100964   \n",
       "2  0.135304  0.148008  0.078646  ... -0.045211  0.618446 -0.772424  0.046515   \n",
       "3 -2.009516  0.205328 -0.226058  ...  0.549155  0.084735 -1.660483 -0.238725   \n",
       "4 -0.105079 -0.027678 -0.649422  ...  0.487635 -0.024250 -0.512936 -0.516050   \n",
       "\n",
       "        V27       V28  Amount  Class                        transaction_id  \\\n",
       "0 -0.205586 -0.170543     0.0      0  e4a2071d-51ba-4e85-9e03-2573f457a138   \n",
       "1 -0.026671 -0.007202     0.0      0  b0c83024-5e8c-4fb4-b71f-72c08fc26fd9   \n",
       "2 -0.097679 -0.037401     0.0      0  17cc17a4-ead1-475b-9c61-f85e12b0ee4a   \n",
       "3  0.084017  0.960471     0.0      0  1aaa8454-721f-4e21-8ef0-015d6d15272f   \n",
       "4  0.011179 -0.026608     0.0      0  8b43188e-da87-4e6c-b76d-a321a84c6b52   \n",
       "\n",
       "   splits  \n",
       "0    TEST  \n",
       "1    TEST  \n",
       "2    TEST  \n",
       "3    TEST  \n",
       "4    TEST  \n",
       "\n",
       "[5 rows x 33 columns]"
      ]
     },
     "execution_count": 28,
     "metadata": {},
     "output_type": "execute_result"
    }
   ],
   "source": [
    "data.head()"
   ]
  }
 ],
 "metadata": {
  "environment": {
   "kernel": "python3",
   "name": "tf2-cpu.2-11.m119",
   "type": "gcloud",
   "uri": "us-docker.pkg.dev/deeplearning-platform-release/gcr.io/tf2-cpu.2-11:m119"
  },
  "kernelspec": {
   "display_name": "Python 3",
   "language": "python",
   "name": "python3"
  },
  "language_info": {
   "codemirror_mode": {
    "name": "ipython",
    "version": 3
   },
   "file_extension": ".py",
   "mimetype": "text/x-python",
   "name": "python",
   "nbconvert_exporter": "python",
   "pygments_lexer": "ipython3",
   "version": "3.10.14"
  }
 },
 "nbformat": 4,
 "nbformat_minor": 5
}
