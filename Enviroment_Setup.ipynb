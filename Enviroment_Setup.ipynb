{
 "cells": [
  {
   "cell_type": "markdown",
   "id": "eda54a49-4fe0-450e-a2aa-dad2c6415621",
   "metadata": {},
   "source": [
    "# Enviroment_Setup\n",
    "inputs:"
   ]
  },
  {
   "cell_type": "code",
   "execution_count": 1,
   "id": "b048dd0a-7ce3-485d-a9a8-115febb18d64",
   "metadata": {
    "tags": []
   },
   "outputs": [],
   "source": [
    "REGION = \"us-central1\"\n",
    "PROJECT_ID = \"mrnaif-demo\"\n",
    "DATANAME = \"fraud\"\n",
    "\n",
    "BQ_SOURCE = \"bigquery-public-data.ml_datasets.ulb_fraud_detection\""
   ]
  },
  {
   "cell_type": "code",
   "execution_count": 2,
   "id": "143e94dd-1b6f-4d4a-8a33-97729c06dfca",
   "metadata": {
    "tags": []
   },
   "outputs": [],
   "source": [
    "from google.cloud import storage\n",
    "from google.cloud import bigquery\n",
    "\n",
    "import pandas as pd\n",
    "from sklearn import datasets"
   ]
  },
  {
   "cell_type": "code",
   "execution_count": 3,
   "id": "9c61d04b-4b34-4cb8-b5e6-d5a565302909",
   "metadata": {
    "tags": []
   },
   "outputs": [],
   "source": [
    "BUCKET = PROJECT_ID"
   ]
  },
  {
   "cell_type": "markdown",
   "id": "98aa8e4b-e0aa-4e62-b694-d955d5fc34d9",
   "metadata": {},
   "source": [
    "### Create Storage Bucket"
   ]
  },
  {
   "cell_type": "code",
   "execution_count": 4,
   "id": "6d4871db-a112-4564-bf82-6d837e4f4d82",
   "metadata": {
    "tags": []
   },
   "outputs": [],
   "source": [
    "gcs = storage.Client(project = PROJECT_ID)"
   ]
  },
  {
   "cell_type": "code",
   "execution_count": 5,
   "id": "16255c40-951c-4243-abc3-2f0000d2e35b",
   "metadata": {
    "tags": []
   },
   "outputs": [
    {
     "name": "stdout",
     "output_type": "stream",
     "text": [
      "<Bucket: mrnaif-demo>\n"
     ]
    }
   ],
   "source": [
    "if not gcs.lookup_bucket(BUCKET):\n",
    "    bucketDef = gcs.bucket(BUCKET)\n",
    "    bucket = gcs.create_bucket(bucketDef, project=PROJECT_ID, location=REGION)\n",
    "    print(bucket)\n",
    "else:\n",
    "    print(gcs.lookup_bucket(BUCKET))"
   ]
  },
  {
   "cell_type": "markdown",
   "id": "10eb9c1f-27ec-40d3-a333-a31d8de6b825",
   "metadata": {},
   "source": [
    "### Store Project Data in the Storage Bucket\n",
    "- Export from bigquery table to GCS bucket as CSV\n",
    "  - The table is referenced in the BQ_SOURCE variable at the top of this notebook\n",
    "- https://cloud.google.com/bigquery/docs/exporting-data#python"
   ]
  },
  {
   "cell_type": "code",
   "execution_count": 6,
   "id": "6b928a66-3d54-4ce7-8d24-f4f9d7d8815b",
   "metadata": {
    "tags": []
   },
   "outputs": [],
   "source": [
    "bq = bigquery.Client(project=PROJECT_ID)\n",
    "destination = f\"gs://{BUCKET}/{DATANAME}/data/{DATANAME}.csv\"\n",
    "source = bigquery.TableReference.from_string(BQ_SOURCE)\n",
    "extract = bq.extract_table(source, destination)"
   ]
  },
  {
   "cell_type": "code",
   "execution_count": 7,
   "id": "d84c4e73-e331-4220-886d-b4c646cf85de",
   "metadata": {
    "tags": []
   },
   "outputs": [
    {
     "data": {
      "text/plain": [
       "ExtractJob<project=mrnaif-demo, location=US, id=b8f90eea-a793-4bbd-8c54-dec52d685a8b>"
      ]
     },
     "execution_count": 7,
     "metadata": {},
     "output_type": "execute_result"
    }
   ],
   "source": [
    "extract.result()"
   ]
  },
  {
   "cell_type": "markdown",
   "id": "46298f4d-9f5e-4025-8ed4-26984d1585e9",
   "metadata": {},
   "source": [
    "### Install KFP\n",
    "- May need to re-run these code snippets if you see errors"
   ]
  },
  {
   "cell_type": "code",
   "execution_count": 13,
   "id": "06cf8235-9b19-4670-ad76-fd7b5293b3f8",
   "metadata": {
    "tags": []
   },
   "outputs": [],
   "source": [
    "!pip install kfp -U -q"
   ]
  },
  {
   "cell_type": "code",
   "execution_count": 10,
   "id": "557b50e0-24e6-475e-b74a-460468fded98",
   "metadata": {
    "tags": []
   },
   "outputs": [],
   "source": [
    "!pip install google-cloud-pipeline-components -U -q"
   ]
  },
  {
   "cell_type": "markdown",
   "id": "60035bf9-bc41-436b-909b-ffcb6208b100",
   "metadata": {},
   "source": [
    "### Other For Specific Notebooks\n",
    "- Plotly used for visualizations"
   ]
  },
  {
   "cell_type": "code",
   "execution_count": 11,
   "id": "ff4be530-bbcf-42f8-af00-a89e4ebde3be",
   "metadata": {
    "tags": []
   },
   "outputs": [],
   "source": [
    "!pip install plotly -q"
   ]
  },
  {
   "cell_type": "markdown",
   "id": "aa476d0c-e068-4fd5-b48a-86fbfb8726e8",
   "metadata": {},
   "source": [
    "### Update AIPlatform Package\n",
    "The google-cloud-aiplatform package updates frequently. update it for latest functionality"
   ]
  },
  {
   "cell_type": "code",
   "execution_count": 12,
   "id": "80594800-3218-4ad4-8b29-76b6285a2a7f",
   "metadata": {
    "tags": []
   },
   "outputs": [],
   "source": [
    "!pip install google-cloud-aiplatform -U -q"
   ]
  }
 ],
 "metadata": {
  "environment": {
   "kernel": "python3",
   "name": "tf2-cpu.2-11.m119",
   "type": "gcloud",
   "uri": "us-docker.pkg.dev/deeplearning-platform-release/gcr.io/tf2-cpu.2-11:m119"
  },
  "kernelspec": {
   "display_name": "Python 3",
   "language": "python",
   "name": "python3"
  },
  "language_info": {
   "codemirror_mode": {
    "name": "ipython",
    "version": 3
   },
   "file_extension": ".py",
   "mimetype": "text/x-python",
   "name": "python",
   "nbconvert_exporter": "python",
   "pygments_lexer": "ipython3",
   "version": "3.10.14"
  }
 },
 "nbformat": 4,
 "nbformat_minor": 5
}
